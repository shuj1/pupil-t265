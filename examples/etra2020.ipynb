{
 "cells": [
  {
   "cell_type": "code",
   "execution_count": 1,
   "metadata": {
    "pycharm": {
     "is_executing": false
    }
   },
   "outputs": [],
   "source": [
    "import os\n",
    "import numpy as np\n",
    "\n",
    "import matplotlib.pyplot as plt\n",
    "import colorcet as cc\n",
    "from pandas.plotting import register_matplotlib_converters\n",
    "register_matplotlib_converters()\n",
    "\n",
    "from utils import *"
   ]
  },
  {
   "cell_type": "markdown",
   "metadata": {},
   "source": [
    "## Load data"
   ]
  },
  {
   "cell_type": "code",
   "execution_count": 2,
   "metadata": {
    "pycharm": {
     "is_executing": false
    }
   },
   "outputs": [],
   "source": [
    "folder_indoor = 'data/indoor'\n",
    "\n",
    "info_indoor = load_info(folder_indoor)\n",
    "user_info_indoor = load_user_info(folder_indoor, info_indoor)\n",
    "gaze_indoor = load_gaze(folder_indoor, info_indoor)\n",
    "odometry_indoor = load_odometry(folder_indoor, info_indoor)"
   ]
  },
  {
   "cell_type": "code",
   "execution_count": null,
   "metadata": {
    "pycharm": {
     "is_executing": false
    }
   },
   "outputs": [],
   "source": [
    "folder_outdoor = 'data/outdoor'\n",
    "\n",
    "info_outdoor = load_info(folder_outdoor)\n",
    "user_info_outdoor = load_user_info(folder_outdoor, info_outdoor)\n",
    "gaze_outdoor = load_gaze(folder_outdoor, info_outdoor)\n",
    "odometry_outdoor = load_odometry(folder_outdoor, info_outdoor)"
   ]
  },
  {
   "cell_type": "code",
   "execution_count": null,
   "metadata": {
    "pycharm": {
     "is_executing": false
    }
   },
   "outputs": [],
   "source": [
    "user_info = {**user_info_indoor, **user_info_outdoor}\n",
    "gaze = xr.concat([gaze_indoor, gaze_outdoor], dim='time')\n",
    "odometry = xr.concat([odometry_indoor, odometry_outdoor], dim='time')\n",
    "_, r_realsense_pupil = load_extrinsics('data')"
   ]
  },
  {
   "cell_type": "markdown",
   "metadata": {},
   "source": [
    "## Analysis"
   ]
  },
  {
   "cell_type": "markdown",
   "metadata": {},
   "source": [
    "### Reference frame transformations"
   ]
  },
  {
   "cell_type": "code",
   "execution_count": null,
   "metadata": {},
   "outputs": [],
   "source": [
    "r_pupil_eyes = shortest_arc_rotation(\n",
    "    gaze.gaze_point, np.array([0., 0., 1.])[None, :])"
   ]
  },
  {
   "cell_type": "code",
   "execution_count": null,
   "metadata": {},
   "outputs": [],
   "source": [
    "r_world_head = stack_rotations(\n",
    "    odometry.orientation.values,\n",
    "    r_realsense_pupil,\n",
    "    r_pupil_analysis)\n",
    "\n",
    "r_world_eyes = stack_rotations(\n",
    "    odometry.orientation,\n",
    "    r_realsense_pupil,\n",
    "    r_pupil_eyes.interp(time=odometry.time),\n",
    "    r_pupil_analysis)"
   ]
  },
  {
   "cell_type": "code",
   "execution_count": null,
   "metadata": {
    "collapsed": false,
    "jupyter": {
     "outputs_hidden": false
    },
    "pycharm": {
     "is_executing": false,
     "name": "#%%\n"
    }
   },
   "outputs": [],
   "source": [
    "linear_velocity_head = odometry.linear_velocity \\\n",
    "    .pipe(rotate_vectors, r_world_head, inverse=True)\n",
    "\n",
    "angular_velocity_head = odometry.angular_velocity \\\n",
    "    .pipe(rotate_vectors, r_world_head, inverse=True)\n",
    "\n",
    "linear_velocity_head_spherical = linear_velocity_head \\\n",
    "    .pipe(cartesian_to_spherical) \\\n",
    "    .pipe(center_spherical_coordinates) \\\n",
    "    .pipe(radians_to_degrees)\n",
    "\n",
    "linear_velocity_eyes_spherical = odometry.linear_velocity \\\n",
    "    .pipe(rotate_vectors, r_world_eyes, inverse=True) \\\n",
    "    .pipe(cartesian_to_spherical) \\\n",
    "    .pipe(center_spherical_coordinates) \\\n",
    "    .pipe(radians_to_degrees)\n",
    "\n",
    "gaze_point_spherical = gaze.gaze_point \\\n",
    "    .pipe(rotate_vectors, r_pupil_analysis, inverse=True) \\\n",
    "    .pipe(cartesian_to_spherical) \\\n",
    "    .pipe(center_spherical_coordinates) \\\n",
    "    .pipe(radians_to_degrees)"
   ]
  },
  {
   "cell_type": "markdown",
   "metadata": {},
   "source": [
    "### Data exclusion"
   ]
  },
  {
   "cell_type": "code",
   "execution_count": null,
   "metadata": {
    "pycharm": {
     "is_executing": false
    }
   },
   "outputs": [],
   "source": [
    "min_gaze_confidence = 0.8\n",
    "min_tracker_confidence = 3\n",
    "window_len = 100\n",
    "max_eye_velocity = 1000"
   ]
  },
  {
   "cell_type": "markdown",
   "metadata": {},
   "source": [
    "#### Gaze data"
   ]
  },
  {
   "cell_type": "markdown",
   "metadata": {},
   "source": [
    "Smooth gaze point and norm pos with boxcar filter"
   ]
  },
  {
   "cell_type": "code",
   "execution_count": null,
   "metadata": {
    "pycharm": {
     "is_executing": false,
     "name": "#%%\n"
    }
   },
   "outputs": [],
   "source": [
    "gaze_point_spherical = gaze_point_spherical \\\n",
    "    .pipe(smooth, window_len=window_len)"
   ]
  },
  {
   "cell_type": "markdown",
   "metadata": {},
   "source": [
    "Compute gaze velocity"
   ]
  },
  {
   "cell_type": "code",
   "execution_count": null,
   "metadata": {
    "pycharm": {
     "is_executing": false,
     "name": "#%%\n"
    }
   },
   "outputs": [],
   "source": [
    "gaze_vel_spherical = gaze_point_spherical \\\n",
    "    .differentiate('time', datetime_unit='s') \\\n",
    "    .rename('gaze_velocity')\n",
    "\n",
    "gaze_vel_norm = gaze_vel_spherical \\\n",
    "    .sel(spherical_axis=['theta', 'phi']) \\\n",
    "    .reduce(np.linalg.norm, dim='spherical_axis')"
   ]
  },
  {
   "cell_type": "markdown",
   "metadata": {},
   "source": [
    "Clean gaze point and velocity"
   ]
  },
  {
   "cell_type": "code",
   "execution_count": null,
   "metadata": {
    "pycharm": {
     "is_executing": false,
     "name": "#%%\n"
    }
   },
   "outputs": [],
   "source": [
    "gaze_point_spherical = gaze_point_spherical \\\n",
    "    .pipe(clean,\n",
    "          gaze.gaze_confidence > min_gaze_confidence,\n",
    "          gaze_vel_norm < max_eye_velocity)\n",
    "\n",
    "gaze_vel_spherical = gaze_vel_spherical \\\n",
    "    .pipe(clean,\n",
    "          gaze.gaze_confidence >= min_gaze_confidence,\n",
    "          gaze_vel_norm < max_eye_velocity)"
   ]
  },
  {
   "cell_type": "markdown",
   "metadata": {},
   "source": [
    "#### Head tracking data"
   ]
  },
  {
   "cell_type": "code",
   "execution_count": null,
   "metadata": {},
   "outputs": [],
   "source": [
    "linear_velocity_head = linear_velocity_head \\\n",
    "    .pipe(clean, odometry.tracker_confidence >= min_tracker_confidence)\n",
    "\n",
    "angular_velocity_head = angular_velocity_head \\\n",
    "    .pipe(clean, odometry.tracker_confidence >= min_tracker_confidence)\n",
    "\n",
    "linear_velocity_head_spherical = linear_velocity_head_spherical \\\n",
    "    .pipe(clean, odometry.tracker_confidence >= min_tracker_confidence)\n",
    "\n",
    "linear_velocity_eyes_spherical = linear_velocity_eyes_spherical \\\n",
    "    .pipe(clean, odometry.tracker_confidence >= min_tracker_confidence)"
   ]
  },
  {
   "cell_type": "markdown",
   "metadata": {},
   "source": [
    "### Vestibulo-ocular reflex"
   ]
  },
  {
   "cell_type": "code",
   "execution_count": null,
   "metadata": {
    "pycharm": {
     "is_executing": false
    }
   },
   "outputs": [],
   "source": [
    "d1 = float(user_info['tvor_close_distance'])\n",
    "d2 = float(user_info['tvor_far_distance'])\n",
    "\n",
    "conditions = {\n",
    "    'rvor_yaw': \n",
    "        ('z', 'phi', -angular_velocity_head/np.pi*180),\n",
    "    'rvor_pitch': \n",
    "        ('y', 'theta', -angular_velocity_head/np.pi*180),\n",
    "    'tvor_close': \n",
    "        ('z', 'theta', np.arctan(linear_velocity_head/d1)/np.pi*180),\n",
    "    'tvor_far':  \n",
    "        ('z', 'theta', np.arctan(linear_velocity_head/d2)/np.pi*180),\n",
    "}\n",
    "\n",
    "v_eyes = {\n",
    "    condition: gaze_vel_spherical.sel(\n",
    "        time=slice(user_info[f'{condition}_start'], \n",
    "                   user_info[f'{condition}_end']),\n",
    "        spherical_axis=s_axis)\n",
    "    for condition, (_, s_axis, _) in conditions.items()\n",
    "}\n",
    "\n",
    "v_head = {\n",
    "    condition: head_vel.sel(\n",
    "        time=slice(user_info[f'{condition}_start'], \n",
    "                   user_info[f'{condition}_end']),\n",
    "        cartesian_axis=c_axis)\n",
    "    for condition, (c_axis, _, head_vel) in conditions.items()\n",
    "}"
   ]
  },
  {
   "cell_type": "code",
   "execution_count": null,
   "metadata": {
    "pycharm": {
     "is_executing": false
    }
   },
   "outputs": [],
   "source": [
    "fig, axarr = plt.subplots(2, 2, sharex='col', sharey='row', figsize=(12, 6))\n",
    "axarr = axarr.flatten()\n",
    "\n",
    "for idx, condition in enumerate(conditions):\n",
    "    \n",
    "    axarr[idx].plot(\n",
    "        (v_head[condition].time - v_head[condition].time[0]).astype(float)/1e9, \n",
    "        v_head[condition], color='tab:blue', label='Head velocity')\n",
    "    \n",
    "    axarr[idx].plot(\n",
    "        (v_eyes[condition].time - v_eyes[condition].time[0]).astype(float)/1e9, \n",
    "        v_eyes[condition], color='tab:red', linestyle='dashed', label='Eye velocity')\n",
    "    \n",
    "    axarr[idx].set_title(\n",
    "        chr(ord('A') + idx), loc='left', fontweight='bold', fontsize=14)\n",
    "    \n",
    "    if idx >= 2:\n",
    "        axarr[idx].set_xlabel('Time [s]')\n",
    "        axarr[idx].set_ylim(-40, 40)\n",
    "    else:\n",
    "        axarr[idx].set_ylim(-250, 250)\n",
    "    if idx % 2 == 0:\n",
    "        axarr[idx].set_ylabel('Angular velocity [°/s]')\n",
    "    if idx == 3:\n",
    "        axarr[idx].legend(loc='lower right')\n",
    "        \n",
    "fig.tight_layout()"
   ]
  },
  {
   "cell_type": "code",
   "execution_count": null,
   "metadata": {
    "pycharm": {
     "is_executing": false
    }
   },
   "outputs": [],
   "source": [
    "fig.savefig('results/vor.png', dpi=300, bbox_inches='tight')"
   ]
  },
  {
   "cell_type": "markdown",
   "metadata": {},
   "source": [
    "Calculate VOR gain for each segment"
   ]
  },
  {
   "cell_type": "code",
   "execution_count": null,
   "metadata": {},
   "outputs": [],
   "source": [
    "gains = {\n",
    "    condition: np.round(np.nanmedian(\n",
    "        v_eyes[condition].interp(time=v_head[condition].time) / \n",
    "        v_head[condition]), 2)\n",
    "    for condition in conditions\n",
    "}\n",
    "\n",
    "print(gains)"
   ]
  },
  {
   "cell_type": "markdown",
   "metadata": {},
   "source": [
    "### Heatmaps"
   ]
  },
  {
   "cell_type": "code",
   "execution_count": null,
   "metadata": {
    "pycharm": {
     "is_executing": false
    }
   },
   "outputs": [],
   "source": [
    "max_angle = 45\n",
    "nbins = 100"
   ]
  },
  {
   "cell_type": "code",
   "execution_count": null,
   "metadata": {
    "pycharm": {
     "is_executing": false
    }
   },
   "outputs": [],
   "source": [
    "walk_times = slice(user_info['walk_start'], user_info['walk_end'])\n",
    "\n",
    "def compute_2d_histogram(\n",
    "        data, dim, ix, iy, times, nbins=nbins, \n",
    "        xrange=(-max_angle, max_angle), yrange=(-max_angle, max_angle)):\n",
    "    \"\"\" Compute 2D histogram from DataArray. \"\"\"\n",
    "    return histogram2d(\n",
    "        data.sel(**{dim: ix, 'time': times}), \n",
    "        data.sel(**{dim: iy, 'time': times}), \n",
    "        range=[xrange, yrange], bins=nbins).T\n",
    "\n",
    "heatmaps = {\n",
    "    'v_lin':  compute_2d_histogram(\n",
    "        linear_velocity_head_spherical, 'spherical_axis', 'phi', 'theta', walk_times),\n",
    "    'p_gaze': compute_2d_histogram(\n",
    "        gaze_point_spherical, 'spherical_axis', 'phi', 'theta', walk_times),\n",
    "    'v_lin_eyes': compute_2d_histogram(\n",
    "        linear_velocity_eyes_spherical, 'spherical_axis', 'phi', 'theta', walk_times),\n",
    "}"
   ]
  },
  {
   "cell_type": "code",
   "execution_count": null,
   "metadata": {
    "pycharm": {
     "is_executing": true
    }
   },
   "outputs": [],
   "source": [
    "fig, axarr = plt.subplots(\n",
    "    ncols=3, figsize=(12, 4), sharey=True)\n",
    "\n",
    "for idx, heatmap in enumerate(heatmaps.values()):\n",
    "\n",
    "    axarr[idx].imshow(heatmap, cmap=cc.cm.rainbow, \n",
    "                      extent=[-max_angle, max_angle, -max_angle, max_angle])\n",
    "    \n",
    "    axarr[idx].set_title(\n",
    "        chr(ord('A') + idx), loc='left', fontweight='bold', fontsize=14)\n",
    "    \n",
    "    axarr[idx].set_xlabel('Azimuth angle [°]')\n",
    "    if idx == 0:\n",
    "        axarr[idx].set_ylabel('Elevation angle [°]')\n",
    "\n",
    "fig.tight_layout()"
   ]
  },
  {
   "cell_type": "code",
   "execution_count": null,
   "metadata": {
    "pycharm": {
     "is_executing": true
    }
   },
   "outputs": [],
   "source": [
    "fig.savefig('results/heatmaps.png', dpi=300, bbox_inches='tight');"
   ]
  },
  {
   "cell_type": "markdown",
   "metadata": {},
   "source": [
    "Fin"
   ]
  }
 ],
 "metadata": {
  "kernelspec": {
   "display_name": "Python [conda env:pupil-t265]",
   "language": "python",
   "name": "conda-env-pupil-t265-py"
  },
  "language_info": {
   "codemirror_mode": {
    "name": "ipython",
    "version": 3
   },
   "file_extension": ".py",
   "mimetype": "text/x-python",
   "name": "python",
   "nbconvert_exporter": "python",
   "pygments_lexer": "ipython3",
   "version": "3.6.7"
  },
  "pycharm": {
   "stem_cell": {
    "cell_type": "raw",
    "metadata": {
     "collapsed": false
    },
    "source": []
   }
  }
 },
 "nbformat": 4,
 "nbformat_minor": 4
}
